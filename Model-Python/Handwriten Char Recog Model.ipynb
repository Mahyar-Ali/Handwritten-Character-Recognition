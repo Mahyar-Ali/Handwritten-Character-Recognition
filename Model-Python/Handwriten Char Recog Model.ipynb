{
  "nbformat": 4,
  "nbformat_minor": 0,
  "metadata": {
    "colab": {
      "name": "Untitled3.ipynb",
      "provenance": [],
      "collapsed_sections": []
    },
    "kernelspec": {
      "name": "python3",
      "display_name": "Python 3"
    },
    "accelerator": "GPU"
  },
  "cells": [
    {
      "cell_type": "markdown",
      "metadata": {
        "id": "liHlvtmn_iUL",
        "colab_type": "text"
      },
      "source": [
        "#Downloading and Preprocessing the dataset"
      ]
    },
    {
      "cell_type": "code",
      "metadata": {
        "id": "8zupMUgrYKfu",
        "colab_type": "code",
        "colab": {}
      },
      "source": [
        "!wget http://www.itl.nist.gov/iaui/vip/cs_links/EMNIST/gzip.zip\n",
        "!unzip gzip.zip\n",
        "!rm gzip.zip"
      ],
      "execution_count": 0,
      "outputs": []
    },
    {
      "cell_type": "code",
      "metadata": {
        "id": "7hDxos5JYOJi",
        "colab_type": "code",
        "colab": {}
      },
      "source": [
        "!pip install python-mnist"
      ],
      "execution_count": 0,
      "outputs": []
    },
    {
      "cell_type": "code",
      "metadata": {
        "id": "UbcqHVKebPl4",
        "colab_type": "code",
        "colab": {}
      },
      "source": [
        "import numpy as np\n",
        "import matplotlib.pyplot as plt\n",
        "from mnist import MNIST\n",
        "import tensorflow as tf\n",
        "from tensorflow.keras import layers\n",
        "from sklearn.utils.class_weight import compute_class_weight"
      ],
      "execution_count": 0,
      "outputs": []
    },
    {
      "cell_type": "code",
      "metadata": {
        "id": "aIUsEqsBYky8",
        "colab_type": "code",
        "colab": {
          "base_uri": "https://localhost:8080/",
          "height": 55
        },
        "outputId": "252f6c41-033e-49c7-b649-2029368d97d7"
      },
      "source": [
        "#Load the entire dataset as numpy arrays\n",
        "emnist_data = MNIST(path='gzip',return_type = 'numpy')\n",
        "emnist_data.select_emnist('byclass')\n",
        "\n",
        "x_train,y_train = emnist_data.load_training()\n",
        "x_test,y_test = emnist_data.load_testing()\n",
        "\n",
        "print(x_train.shape,y_train.shape)\n",
        "print(x_test.shape,y_test.shape)"
      ],
      "execution_count": 6,
      "outputs": [
        {
          "output_type": "stream",
          "text": [
            "(697932, 784) (697932,)\n",
            "(116323, 784) (116323,)\n"
          ],
          "name": "stdout"
        }
      ]
    },
    {
      "cell_type": "code",
      "metadata": {
        "id": "hVzqkeyCalih",
        "colab_type": "code",
        "colab": {
          "base_uri": "https://localhost:8080/",
          "height": 36
        },
        "outputId": "4cb49288-8639-446a-becf-f95e13236ed9"
      },
      "source": [
        "img_size = 28\n",
        "\n",
        "x_train = x_train.reshape(-1,img_size,img_size,1).astype('float32')/255.0\n",
        "x_test = x_test.reshape(-1,img_size,img_size,1).astype('float32')/255.0\n",
        "\n",
        "print(x_train.shape)"
      ],
      "execution_count": 7,
      "outputs": [
        {
          "output_type": "stream",
          "text": [
            "(697932, 28, 28, 1)\n"
          ],
          "name": "stdout"
        }
      ]
    },
    {
      "cell_type": "code",
      "metadata": {
        "id": "Z5rqn2gsZjL9",
        "colab_type": "code",
        "colab": {
          "base_uri": "https://localhost:8080/",
          "height": 55
        },
        "outputId": "69bbad43-a939-447b-bc03-e530dc66294d"
      },
      "source": [
        "num_classes = len(np.unique(y_train))\n",
        "print(\"Number of classes \"+str(num_classes))\n",
        "\n",
        "unique_classes = np.unique(y_train)\n",
        "class_weights = dict(enumerate(compute_class_weight('balanced', unique_classes,y_train)))\n",
        "\n",
        "y_train = tf.keras.utils.to_categorical(y_train,num_classes=num_classes)\n",
        "y_test = tf.keras.utils.to_categorical(y_test,num_classes=num_classes)\n",
        "\n",
        "print(y_train.shape)"
      ],
      "execution_count": 8,
      "outputs": [
        {
          "output_type": "stream",
          "text": [
            "Number of classes 62\n",
            "(697932, 62)\n"
          ],
          "name": "stdout"
        }
      ]
    },
    {
      "cell_type": "markdown",
      "metadata": {
        "id": "ylhFyZ-z_qTD",
        "colab_type": "text"
      },
      "source": [
        "#Creating and Training the Model"
      ]
    },
    {
      "cell_type": "code",
      "metadata": {
        "id": "tvk661v5aPRg",
        "colab_type": "code",
        "colab": {}
      },
      "source": [
        "def create_model():\n",
        "  model = tf.keras.Sequential()\n",
        "  model.add(layers.Conv2D(16,kernel_size=(3,3),padding='same',activation='relu',input_shape=(28,28,1)))\n",
        "  model.add(layers.MaxPooling2D(pool_size=(2,2)))\n",
        "  model.add(layers.BatchNormalization())\n",
        "  model.add(layers.Dropout(0.4))\n",
        "\n",
        "  model.add(layers.Conv2D(32,kernel_size=(3,3),padding='same',activation='relu'))\n",
        "  model.add(layers.MaxPooling2D(pool_size=(2,2)))\n",
        "  model.add(layers.BatchNormalization())\n",
        "  model.add(layers.Dropout(0.4))\n",
        "\n",
        "  model.add(layers.Conv2D(64,kernel_size=(3,3),padding='same',activation='relu'))\n",
        "  model.add(layers.MaxPooling2D(pool_size=(2,2)))\n",
        "  model.add(layers.BatchNormalization())\n",
        "  model.add(layers.Dropout(0.4))\n",
        "\n",
        "  model.add(layers.Flatten())\n",
        "  model.add(layers.Dense(128,activation='relu'))\n",
        "\n",
        "  model.add(layers.Dense(num_classes,activation='softmax'))\n",
        "\n",
        "  return model"
      ],
      "execution_count": 0,
      "outputs": []
    },
    {
      "cell_type": "code",
      "metadata": {
        "id": "fATiSYRpacYI",
        "colab_type": "code",
        "colab": {}
      },
      "source": [
        "model = create_model()\n",
        "model.compile(loss='categorical_crossentropy',optimizer='adam',metrics=['accuracy'])"
      ],
      "execution_count": 0,
      "outputs": []
    },
    {
      "cell_type": "code",
      "metadata": {
        "id": "mbNvDUgXffAo",
        "colab_type": "code",
        "colab": {
          "base_uri": "https://localhost:8080/",
          "height": 208
        },
        "outputId": "9324cbfc-8449-476f-f92a-adc2b132cddd"
      },
      "source": [
        "es = tf.keras.callbacks.EarlyStopping(\n",
        "    monitor='val_loss',\n",
        "    mode = 'min',\n",
        "    verbose=1,\n",
        "    patience = 10,\n",
        "    restore_best_weights=True\n",
        ")\n",
        "\n",
        "history = model.fit(x_train,y_train,batch_size=1024,epochs=200,verbose=1,callbacks=[es],\n",
        "          validation_data=(x_test,y_test),shuffle=True)"
      ],
      "execution_count": 28,
      "outputs": [
        {
          "output_type": "stream",
          "text": [
            "682/682 [==============================] - 9s 14ms/step - loss: 0.3490 - accuracy: 0.8686 - val_loss: 0.3328 - val_accuracy: 0.8751\n",
            "Epoch 39/200\n",
            "682/682 [==============================] - 9s 14ms/step - loss: 0.3497 - accuracy: 0.8690 - val_loss: 0.3301 - val_accuracy: 0.8747\n",
            "Epoch 40/200\n",
            "682/682 [==============================] - 9s 14ms/step - loss: 0.3494 - accuracy: 0.8690 - val_loss: 0.3296 - val_accuracy: 0.8758\n",
            "Epoch 41/200\n",
            "680/682 [============================>.] - ETA: 0s - loss: 0.3495 - accuracy: 0.8686Restoring model weights from the end of the best epoch.\n",
            "682/682 [==============================] - 9s 14ms/step - loss: 0.3496 - accuracy: 0.8686 - val_loss: 0.3311 - val_accuracy: 0.8749\n",
            "Epoch 00041: early stopping\n"
          ],
          "name": "stdout"
        }
      ]
    },
    {
      "cell_type": "code",
      "metadata": {
        "id": "ZNcavAAQ73Iq",
        "colab_type": "code",
        "colab": {
          "base_uri": "https://localhost:8080/",
          "height": 55
        },
        "outputId": "e4079602-2e8a-4044-8423-573773b34109"
      },
      "source": [
        "score = model.evaluate(x_test,y_test,verbose=1)\n",
        "print(\"Test Loss:{} and Test accuracy:{}\".format(score[0],score[1]))"
      ],
      "execution_count": 29,
      "outputs": [
        {
          "output_type": "stream",
          "text": [
            "3636/3636 [==============================] - 8s 2ms/step - loss: 0.3282 - accuracy: 0.8770\n",
            "Test Loss:0.3282179832458496 and Test accuracy:0.8769890666007996\n"
          ],
          "name": "stdout"
        }
      ]
    },
    {
      "cell_type": "code",
      "metadata": {
        "id": "rylfGxwb8Tml",
        "colab_type": "code",
        "colab": {}
      },
      "source": [
        "def plot_history(x,metric):\n",
        "    plt.plot(history.history[metric])\n",
        "    plt.plot(history.history['val_'+metric])\n",
        "    plt.title(metric)\n",
        "    plt.xlabel(\"epoch\")\n",
        "    plt.ylabel(metric)\n",
        "    plt.legend(['Train','Validation'])\n",
        "    plt.show()"
      ],
      "execution_count": 0,
      "outputs": []
    },
    {
      "cell_type": "code",
      "metadata": {
        "id": "B45T4BGS-5Oz",
        "colab_type": "code",
        "colab": {}
      },
      "source": [
        "plot_history(model.history.history,'accuracy')\n",
        "plot_history(model.history.history,'loss')"
      ],
      "execution_count": 0,
      "outputs": []
    },
    {
      "cell_type": "markdown",
      "metadata": {
        "id": "EEj978DO_ceT",
        "colab_type": "text"
      },
      "source": [
        "#Converting Model to JavaScript"
      ]
    },
    {
      "cell_type": "code",
      "metadata": {
        "id": "1Qpm36OX_hG8",
        "colab_type": "code",
        "colab": {}
      },
      "source": [
        "model.save(\"cnn_emnist.h5\")"
      ],
      "execution_count": 0,
      "outputs": []
    },
    {
      "cell_type": "code",
      "metadata": {
        "id": "bG71XV8FBfhX",
        "colab_type": "code",
        "colab": {}
      },
      "source": [
        "!pip install tensorflowjs\n",
        "!tensorflowjs_converter --input_format keras \"cnn_emnist.h5\" ./jsmodel"
      ],
      "execution_count": 0,
      "outputs": []
    }
  ]
}